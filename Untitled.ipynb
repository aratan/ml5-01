{
 "cells": [
  {
   "cell_type": "code",
   "execution_count": 2,
   "id": "4797c582",
   "metadata": {
    "scrolled": true
   },
   "outputs": [
    {
     "ename": "ModuleNotFoundError",
     "evalue": "No module named 'pandas'",
     "output_type": "error",
     "traceback": [
      "\u001b[0;31m---------------------------------------------------------------------------\u001b[0m",
      "\u001b[0;31mModuleNotFoundError\u001b[0m                       Traceback (most recent call last)",
      "\u001b[0;32m/tmp/ipykernel_65442/2897990812.py\u001b[0m in \u001b[0;36m<module>\u001b[0;34m\u001b[0m\n\u001b[1;32m      1\u001b[0m \u001b[0;32mimport\u001b[0m \u001b[0mmatplotlib\u001b[0m\u001b[0;34m.\u001b[0m\u001b[0mpyplot\u001b[0m \u001b[0;32mas\u001b[0m \u001b[0mplt\u001b[0m\u001b[0;34m\u001b[0m\u001b[0;34m\u001b[0m\u001b[0m\n\u001b[0;32m----> 2\u001b[0;31m \u001b[0;32mimport\u001b[0m \u001b[0mpandas\u001b[0m \u001b[0;32mas\u001b[0m \u001b[0mpd\u001b[0m\u001b[0;34m\u001b[0m\u001b[0;34m\u001b[0m\u001b[0m\n\u001b[0m\u001b[1;32m      3\u001b[0m \u001b[0;34m\u001b[0m\u001b[0m\n\u001b[1;32m      4\u001b[0m \u001b[0;34m\u001b[0m\u001b[0m\n\u001b[1;32m      5\u001b[0m \u001b[0msales\u001b[0m \u001b[0;34m=\u001b[0m \u001b[0mpd\u001b[0m\u001b[0;34m.\u001b[0m\u001b[0mread_csv\u001b[0m\u001b[0;34m(\u001b[0m\u001b[0;34m\"dataset-sell4all.csv\"\u001b[0m\u001b[0;34m)\u001b[0m\u001b[0;34m\u001b[0m\u001b[0;34m\u001b[0m\u001b[0m\n",
      "\u001b[0;31mModuleNotFoundError\u001b[0m: No module named 'pandas'"
     ]
    }
   ],
   "source": [
    "#importamos librerias\n",
    "import matplotlib.pyplot as plt\n",
    "import pandas as pd\n",
    "\n",
    "#abrimos el fichero\n",
    "sales = pd.read_csv(\"dataset-sell4all.csv\") \n",
    "\n",
    "#preparamos la salida\n",
    "result =  sales[1:6]\n",
    "columnas = sales[0:1]\n",
    "\n",
    "#Mostramos las 5 primeras lineas\n",
    "print(f'Lectura de las 5 primeras lineas \\n\\r {result} ')\n",
    "print(f'Las columnas son: {columnas} ')\n",
    "total_cols = len(sales.Name[1])\n",
    "print(\"Numero de columnas: \"+str(total_cols))\n",
    "\n",
    "print('Total de filas:',sales.shape[0])\n",
    "\n",
    "#Tipo de datos\n",
    "print (sales.dtypes)\n",
    "#sacamos la medis de edad\n",
    "print(sales['Age'].mean()) # media\n",
    "#sacamos la mediana de edad\n",
    "print(sales['Age'].median()) #mediana\n",
    "#sacamos la media de ventas\n",
    "print(sales['Customer spendings'].mean())\n",
    "#sacamos la mediana de ventas\n",
    "print(sales['Customer spendings'].median())\n",
    "\n",
    "# Preparamos los graficos por pais y venta.\n",
    "plt.bar(sales['Country'],sales['Customer spendings'])\n",
    "# dibujamos la grafica\n",
    "plt.show()"
   ]
  },
  {
   "cell_type": "markdown",
   "id": "6ef8ffa5",
   "metadata": {},
   "source": [
    "find del proyecto"
   ]
  },
  {
   "cell_type": "code",
   "execution_count": null,
   "id": "44465e8d",
   "metadata": {},
   "outputs": [],
   "source": []
  },
  {
   "cell_type": "code",
   "execution_count": null,
   "id": "3f9b4ff9",
   "metadata": {},
   "outputs": [],
   "source": []
  }
 ],
 "metadata": {
  "kernelspec": {
   "display_name": "Python 3 (ipykernel)",
   "language": "python",
   "name": "python3"
  },
  "language_info": {
   "codemirror_mode": {
    "name": "ipython",
    "version": 3
   },
   "file_extension": ".py",
   "mimetype": "text/x-python",
   "name": "python",
   "nbconvert_exporter": "python",
   "pygments_lexer": "ipython3",
   "version": "3.10.4"
  }
 },
 "nbformat": 4,
 "nbformat_minor": 5
}
