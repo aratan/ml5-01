{
 "cells": [
  {
   "cell_type": "code",
   "execution_count": null,
   "id": "99962ebd",
   "metadata": {},
   "outputs": [],
   "source": []
  },
  {
   "cell_type": "code",
   "execution_count": 1,
   "id": "7773b300",
   "metadata": {},
   "outputs": [],
   "source": [
    "import matplotlib.pyplot as plt\n",
    "import pandas as pd\n"
   ]
  },
  {
   "cell_type": "markdown",
   "id": "6ef8ffa5",
   "metadata": {},
   "source": [
    "# Cargamos librerias a utilizar"
   ]
  },
  {
   "cell_type": "code",
   "execution_count": 2,
   "id": "44465e8d",
   "metadata": {},
   "outputs": [],
   "source": [
    "\n",
    "\n",
    "sales = pd.read_csv(\"dataset-sell4all.csv\") \n",
    "\n",
    "result =  sales[1:6]\n",
    "columnas = sales[0:1]\n"
   ]
  },
  {
   "cell_type": "markdown",
   "id": "030b21d8",
   "metadata": {},
   "source": [
    "#Cargamos fichero y preparamos datos a mostrar\n",
    "1. mostramos todo\n",
    "2. Mostramos las 5 primeras lineas\n",
    "3. Mostramos las comunas"
   ]
  },
  {
   "cell_type": "code",
   "execution_count": 3,
   "id": "5a4edbf4",
   "metadata": {},
   "outputs": [
    {
     "name": "stdout",
     "output_type": "stream",
     "text": [
      "Lectura de las 5 primeras lineas \n",
      "\r",
      "             Name    Phone number                           Email  \\\n",
      "1    Carl Spears  1-359-606-5254           carlspears@icloud.net   \n",
      "2   Yoshio Stout        594-7730           yoshiostout@yahoo.com   \n",
      "3  Dominic Sharp        763-3031            dominicsharp@aol.com   \n",
      "4  Kalia Stewart  1-838-965-4342        kaliastewart@outlook.net   \n",
      "5  Cyrus Shields  1-633-413-4191  cyrusshields711@protonmail.com   \n",
      "\n",
      "                                 Address    Country Postal code  \\\n",
      "1  P.O. Box 392, 5994 Suspendisse Avenue  Singapore      574777   \n",
      "2               Ap #338-5308 Egestas St.     Turkey       47602   \n",
      "3              Ap #371-7907 Pede. Street      China      237061   \n",
      "4                       479-6409 Sit Av.  Indonesia       44184   \n",
      "5              525-7870 Consectetuer Rd.   Pakistan      525157   \n",
      "\n",
      "  Last date of connection Last time of connection  Age       Gender  \\\n",
      "1            May 14, 2022                 2:47 AM   52     Bigender   \n",
      "2            May 24, 2022                12:24 AM   32  Trans woman   \n",
      "3             Mar 9, 2022                 7:45 AM   71     Bigender   \n",
      "4            Mar 11, 2022                 7:13 PM   39  Transgender   \n",
      "5            Feb 19, 2022                 5:35 PM   61    Nonbinary   \n",
      "\n",
      "   Customer spendings  \n",
      "1                 203  \n",
      "2                 185  \n",
      "3                 315  \n",
      "4                 141  \n",
      "5                 410   \n",
      "Numero de columnas: 11\n",
      "Total de filas: 507\n",
      "Datos tecnicos tipos de datos:  Name                       object\n",
      "Phone number               object\n",
      "Email                      object\n",
      "Address                    object\n",
      "Country                    object\n",
      "Postal code                object\n",
      "Last date of connection    object\n",
      "Last time of connection    object\n",
      "Age                         int64\n",
      "Gender                     object\n",
      "Customer spendings          int64\n",
      "dtype: object\n",
      "Media de Age  52.218934911242606\n",
      "Mediana de Age  52.0\n",
      "Media de Customer spendings  291.76528599605524\n",
      "Mediana de Customer spendings  289.0\n"
     ]
    },
    {
     "data": {
      "image/png": "[encoded data removed]",
      "text/plain": [
       "<Figure size 432x288 with 1 Axes>"
      ]
     },
     "metadata": {
      "needs_background": "light"
     },
     "output_type": "display_data"
    },
    {
     "name": "stdout",
     "output_type": "stream",
     "text": [
      "         Country  Age            Gender  Customer spendings\n",
      "141  New Zealand   36  Gender expansive                   5\n",
      "203     Colombia   64        Cisgender                    1\n",
      "217       Turkey   23       Trans woman                   4\n",
      "254  Philippines   51          Bigender                   4\n",
      "328       France   72       Two Spirit                    5\n",
      "359    Indonesia   49       Genderfluid                   3\n",
      "361        Italy   79       Transgender                   5\n",
      "394       Turkey   44       Transgender                   3\n",
      "402    Indonesia   29       Two Spirit                    5\n",
      "439       Mexico   20          Bigender                   3\n",
      "496    Australia   27       Two Spirit                    4\n",
      "         Country  Age            Gender  Customer spendings\n",
      "141  New Zealand   36  Gender expansive                   5\n",
      "203     Colombia   64        Cisgender                    1\n",
      "217       Turkey   23       Trans woman                   4\n",
      "254  Philippines   51          Bigender                   4\n",
      "328       France   72       Two Spirit                    5\n",
      "359    Indonesia   49       Genderfluid                   3\n",
      "361        Italy   79       Transgender                   5\n",
      "394       Turkey   44       Transgender                   3\n",
      "402    Indonesia   29       Two Spirit                    5\n",
      "439       Mexico   20          Bigender                   3\n",
      "496    Australia   27       Two Spirit                    4\n"
     ]
    }
   ],
   "source": [
    "\n",
    "print(f'Lectura de las 5 primeras lineas \\n\\r {result} ')\n",
    "#print(f'Las columnas son: {columnas} ')\n",
    "total_cols = len(sales.Name[1])\n",
    "print(\"Numero de columnas: \"+str(total_cols))\n",
    "\n",
    "print('Total de filas:',sales.shape[0])\n",
    "print ('Datos tecnicos tipos de datos: ', sales.dtypes)\n",
    "print('Media de Age ',sales['Age'].mean()) # media de edad\n",
    "print('Mediana de Age ',sales['Age'].median()) #mediana de edad\n",
    "print('Media de Customer spendings ',sales['Customer spendings'].mean())   # nedia de ventas\n",
    "print('Mediana de Customer spendings ',sales['Customer spendings'].median()) # mediana de ventas\n",
    "\n",
    "#filtro elimina las ventas menos de 10€\n",
    "#Nota para otros casos: sales = sales.loc[~((sales['Customer spendings'] == 0) | (sales['Age'] == 0))]\n",
    "sales = sales[sales['Customer spendings'] < 10]\n",
    "print('************** FILTRO < 10€ ***************')\n",
    "#print(sales)\n",
    "\n",
    "print('************** LIMPIEZA DE DUPLICADOS ***************')\n",
    "#elimina las filas duplicadas \n",
    "sales = sales.drop_duplicates()\n",
    "#print(sales)\n",
    "\n",
    "\n",
    "#Elimina los datos vacios\n",
    "sales = sales.dropna()\n",
    "print('************** LIMPIEZA DE VACIOS ***************')\n",
    "#print(sales)\n",
    "\n",
    "print('************** CREACION DE BARRAS ***************')\n",
    "# graficos sencillos por pais y venta\n",
    "plt.bar(sales['Country'],sales['Customer spendings'])\n",
    "#pinta\n",
    "plt.show()\n",
    "\n",
    "#deja solo Country, Age, Gender, Customer spendings\n",
    "#Eliminacion multiple por columnas\n",
    "print('************** FILTRO PERSONALIZADO DE DATOS ***************')\n",
    "sales =  sales.drop(axis=1, columns=['Name','Phone number','Email','Address','Postal code','Last date of connection','Last time of connection'])\n",
    "print(sales)\n",
    "\n",
    "# Creamos CSV personalizado y con datos limpios\n",
    "print('************** CREAMOS FICHERO CSV PERSONALIZADO ***************')\n",
    "data = pd.DataFrame(sales)\n",
    "\n",
    "# Creamos el fichero\n",
    "data.to_csv(\"Customers.csv\")\n",
    "\n",
    "# Mostramos la salida de data\n",
    "print(data)\n"
   ]
  },
  {
   "cell_type": "markdown",
   "id": "7e16cc34",
   "metadata": {},
   "source": [
    "* 11 Colunas + 507 filas = 5577 datos\n",
    "* La restricción NOT NULL sirve para especificar que una columna no acepta el valor NULL\n",
    "* Qué tipos de datos están presentes son mostrados al ejecutar el prigrama:\n",
    "  valores numericos enteros, objetos...\n",
    "* En los comentarios del programa se describe como se consigue realizar las operaciones a realizar.\n"
   ]
  },
  {
   "cell_type": "code",
   "execution_count": null,
   "id": "9b98aeeb",
   "metadata": {},
   "outputs": [],
   "source": []
  },
  {
   "cell_type": "code",
   "execution_count": null,
   "id": "86ae8c1f",
   "metadata": {},
   "outputs": [],
   "source": []
  },
  {
   "cell_type": "code",
   "execution_count": null,
   "id": "535f907c",
   "metadata": {},
   "outputs": [],
   "source": []
  }
 ],
 "metadata": {
  "kernelspec": {
   "display_name": "Python 3 (ipykernel)",
   "language": "python",
   "name": "python3"
  },
  "language_info": {
   "codemirror_mode": {
    "name": "ipython",
    "version": 3
   },
   "file_extension": ".py",
   "mimetype": "text/x-python",
   "name": "python",
   "nbconvert_exporter": "python",
   "pygments_lexer": "ipython3",
   "version": "3.9.12"
  }
 },
 "nbformat": 4,
 "nbformat_minor": 5
}
