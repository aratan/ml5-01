{
 "cells": [
  {
   "cell_type": "code",
   "execution_count": null,
   "id": "7773b300",
   "metadata": {},
   "outputs": [],
   "source": [
    "import matplotlib.pyplot as plt\n",
    "import pandas as pd\n",
    "\n",
    "\n",
    "sales = pd.read_csv(\"dataset-sell4all.csv\") \n",
    "\n",
    "result =  sales[1:6]\n",
    "columnas = sales[0:1]\n",
    "\n",
    "print(f'Lectura de las 5 primeras lineas \\n\\r {result} ')\n",
    "print(f'Las columnas son: {columnas} ')\n",
    "total_cols = len(sales.Name[1])\n",
    "print(\"Numero de columnas: \"+str(total_cols))\n",
    "\n",
    "print('Total de filas:',sales.shape[0])\n",
    "print (sales.dtypes)\n",
    "print(sales['Age'].mean()) # media\n",
    "print(sales['Age'].median()) #mediana\n",
    "print(sales['Customer spendings'].mean())\n",
    "print(sales['Customer spendings'].median())\n",
    "\n",
    "#filtro elimina las ventas menos de 10€\n",
    "#mixto sales = sales.loc[~((sales['Customer spendings'] == 0) | (sales['Age'] == 0))]\n",
    "sales = sales[sales['Customer spendings'] < 10]\n",
    "print(sales)\n",
    "\n",
    "#elimina las filas duplicadas \n",
    "sales = sales.drop_duplicates()\n",
    "print(sales)\n",
    "\n",
    "\n",
    "#Elimina vacias\n",
    "sales = sales.dropna()\n",
    "\n",
    "print(sales)\n",
    "\n",
    "# graficos\n",
    "plt.bar(sales['Country'],sales['Customer spendings'])\n",
    "plt.show()\n",
    "\n",
    "#deja solo Country, Age, Gender, Customer spendings\n",
    "#Eliminacion multiple\n",
    "sales =  sales.drop(axis=1, columns=['Name','Phone number','Email','Address','Postal code','Last date of connection','Last time of connection'])\n",
    "\n",
    "print(sales)\n",
    "\n",
    "# Create DataFrame\n",
    "data = pd.DataFrame(sales)\n",
    "\n",
    "# Write to CSV file\n",
    "data.to_csv(\"Customers.csv\")\n",
    "\n",
    "# Print the output.\n",
    "print(data)"
   ]
  },
  {
   "cell_type": "markdown",
   "id": "6ef8ffa5",
   "metadata": {},
   "source": [
    "find del proyecto"
   ]
  },
  {
   "cell_type": "code",
   "execution_count": null,
   "id": "44465e8d",
   "metadata": {},
   "outputs": [],
   "source": []
  },
  {
   "cell_type": "code",
   "execution_count": null,
   "id": "3f9b4ff9",
   "metadata": {},
   "outputs": [],
   "source": []
  }
 ],
 "metadata": {
  "kernelspec": {
   "display_name": "Python 3 (ipykernel)",
   "language": "python",
   "name": "python3"
  },
  "language_info": {
   "codemirror_mode": {
    "name": "ipython",
    "version": 3
   },
   "file_extension": ".py",
   "mimetype": "text/x-python",
   "name": "python",
   "nbconvert_exporter": "python",
   "pygments_lexer": "ipython3",
   "version": "3.10.4"
  }
 },
 "nbformat": 4,
 "nbformat_minor": 5
}
